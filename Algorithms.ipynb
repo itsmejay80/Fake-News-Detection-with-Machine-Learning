{
 "cells": [
  {
   "cell_type": "code",
   "execution_count": null,
   "metadata": {},
   "outputs": [],
   "source": [
    "pip install google-colab\n"
   ]
  },
  {
   "cell_type": "code",
   "execution_count": null,
   "metadata": {
    "colab": {
     "base_uri": "https://localhost:8080/",
     "height": 34
    },
    "executionInfo": {
     "elapsed": 49858,
     "status": "ok",
     "timestamp": 1603301252157,
     "user": {
      "displayName": "Jayesh Patel",
      "photoUrl": "https://lh3.googleusercontent.com/a-/AOh14Gg69SD9e5seMzy43A9_CPxYuNvglWzoi3JdILbrJw=s64",
      "userId": "00686517742766513131"
     },
     "user_tz": -330
    },
    "id": "ctTCa6aUIrOi",
    "outputId": "dfee80ff-98a4-4696-ebea-dd9599efe67d"
   },
   "outputs": [],
   "source": [
    "from google.colab import drive\n",
    "drive.mount(\"/content/gdrive\")\n",
    "\n",
    "import numpy as np\n",
    "import re\n",
    "import string\n",
    "import pandas as pd\n",
    "from gensim.models import Doc2Vec\n",
    "from gensim.models.doc2vec import LabeledSentence\n",
    "from gensim import utils\n",
    "from nltk.corpus import stopwords\n"
   ]
  },
  {
   "cell_type": "code",
   "execution_count": null,
   "metadata": {
    "id": "P9T2VMoIIrOs"
   },
   "outputs": [],
   "source": [
    "def textClean(text):\n",
    "    \"\"\"\n",
    "    Get rid of the non-letter and non-number characters\n",
    "    \"\"\"\n",
    "    text = re.sub(r\"[^A-Za-z0-9^,!.\\/'+-=]\", \" \", text)\n",
    "    text = text.lower().split()\n",
    "    stops = set(stopwords.words(\"english\"))\n",
    "    text = [w for w in text if not w in stops]\n",
    "    text = \" \".join(text)\n",
    "    return (text)\n",
    "\n",
    "def cleanup(text):\n",
    "    text = textClean(text)\n",
    "    text = text.translate(str.maketrans(\"\", \"\", string.punctuation))\n",
    "    return text\n",
    "\n",
    "def constructLabeledSentences(data):\n",
    "    sentences = []\n",
    "    for index, row in data.iteritems():\n",
    "        sentences.append(LabeledSentence(utils.to_unicode(row).split(), ['Text' + '_%s' % str(index)]))\n",
    "    return sentences"
   ]
  },
  {
   "cell_type": "code",
   "execution_count": null,
   "metadata": {
    "id": "gT6LGCBpIrOz"
   },
   "outputs": [],
   "source": [
    "def getEmbeddings(path,vector_dimension=300):\n",
    "    \"\"\"\n",
    "    Generate Doc2Vec training and testing data\n",
    "    \"\"\"\n",
    "    data = pd.read_csv(path)\n",
    "\n",
    "    missing_rows = []\n",
    "    for i in range(len(data)):\n",
    "        if data.loc[i, 'text'] != data.loc[i, 'text']:\n",
    "            missing_rows.append(i)\n",
    "    data = data.drop(missing_rows).reset_index().drop(['index','id'],axis=1)\n",
    "\n",
    "    for i in range(len(data)):\n",
    "        data.loc[i, 'text'] = cleanup(data.loc[i,'text'])\n",
    "\n",
    "    x = constructLabeledSentences(data['text'])\n",
    "    y = data['label'].values\n",
    "\n",
    "    text_model = Doc2Vec(min_count=1, window=5, vector_size=vector_dimension, sample=1e-4, negative=5, workers=7, epochs=10,\n",
    "                         seed=1)\n",
    "    text_model.build_vocab(x)\n",
    "    text_model.train(x, total_examples=text_model.corpus_count, epochs=text_model.iter)\n",
    "\n",
    "    train_size = int(0.8 * len(x))\n",
    "    test_size = len(x) - train_size\n",
    "\n",
    "    text_train_arrays = np.zeros((train_size, vector_dimension))\n",
    "    text_test_arrays = np.zeros((test_size, vector_dimension))\n",
    "    train_labels = np.zeros(train_size)\n",
    "    test_labels = np.zeros(test_size)\n",
    "\n",
    "    for i in range(train_size):\n",
    "        text_train_arrays[i] = text_model.docvecs['Text_' + str(i)]\n",
    "        train_labels[i] = y[i]\n",
    "\n",
    "    j = 0\n",
    "    for i in range(train_size, train_size + test_size):\n",
    "        text_test_arrays[j] = text_model.docvecs['Text_' + str(i)]\n",
    "        test_labels[j] = y[i]\n",
    "        j = j + 1\n",
    "\n",
    "    return text_train_arrays, text_test_arrays, train_labels, test_labels\n",
    "\n",
    "\n",
    "def clean_data():\n",
    "    \"\"\"\n",
    "    Generate processed string\n",
    "    \"\"\"\n",
    "    #path = 'datasets/train.csv'\n",
    "    vector_dimension=300\n",
    "\n",
    "    data = pd.read_csv(path)\n",
    "\n",
    "    missing_rows = []\n",
    "    for i in range(len(data)):\n",
    "        if data.loc[i, 'text'] != data.loc[i, 'text']:\n",
    "            missing_rows.append(i)\n",
    "    data = data.drop(missing_rows).reset_index().drop(['index','id'],axis=1)\n",
    "\n",
    "    for i in range(len(data)):\n",
    "        data.loc[i, 'text'] = cleanup(data.loc[i,'text'])\n",
    "\n",
    "    data = data.sample(frac=1).reset_index(drop=True)\n",
    "\n",
    "    x = data.loc[:,'text'].values\n",
    "    y = data.loc[:,'label'].values\n",
    "\n",
    "    train_size = int(0.8 * len(y))\n",
    "    test_size = len(x) - train_size\n",
    "\n",
    "    xtr = x[:train_size]\n",
    "    xte = x[train_size:]\n",
    "    ytr = y[:train_size]\n",
    "    yte = y[train_size:]\n",
    "\n",
    "    np.save('xtr_shuffled.npy',xtr)\n",
    "    np.save('xte_shuffled.npy',xte)\n",
    "    np.save('ytr_shuffled.npy',ytr)\n",
    "    np.save('yte_shuffled.npy',yte)"
   ]
  },
  {
   "cell_type": "code",
   "execution_count": null,
   "metadata": {
    "colab": {
     "base_uri": "https://localhost:8080/",
     "height": 275
    },
    "executionInfo": {
     "elapsed": 5681,
     "status": "ok",
     "timestamp": 1603301531375,
     "user": {
      "displayName": "Jayesh Patel",
      "photoUrl": "https://lh3.googleusercontent.com/a-/AOh14Gg69SD9e5seMzy43A9_CPxYuNvglWzoi3JdILbrJw=s64",
      "userId": "00686517742766513131"
     },
     "user_tz": -330
    },
    "id": "cbG5VBNAN54R",
    "outputId": "f764c23e-d6b5-4397-a86c-1f3b4d1a0c72"
   },
   "outputs": [],
   "source": [
    "pip install scikit-plot\n"
   ]
  },
  {
   "cell_type": "code",
   "execution_count": null,
   "metadata": {
    "colab": {
     "base_uri": "https://localhost:8080/",
     "height": 366
    },
    "executionInfo": {
     "elapsed": 71804,
     "status": "ok",
     "timestamp": 1603301785698,
     "user": {
      "displayName": "Jayesh Patel",
      "photoUrl": "https://lh3.googleusercontent.com/a-/AOh14Gg69SD9e5seMzy43A9_CPxYuNvglWzoi3JdILbrJw=s64",
      "userId": "00686517742766513131"
     },
     "user_tz": -330
    },
    "id": "NY2WKR3OIrO8",
    "outputId": "0a07793c-3b9b-4d24-ec01-c6c53c8c6b80"
   },
   "outputs": [],
   "source": [
    "'''Import Data which converted into Vector'''\n",
    "\n",
    "xtr=np.load('/content/gdrive/My Drive/Project/xtr.npy')\n",
    "xte=np.load('/content/gdrive/My Drive/Project/xte.npy')\n",
    "ytr=np.load('/content/gdrive/My Drive/Project/ytr.npy')\n",
    "yte=np.load('/content/gdrive/My Drive/Project/yte.npy')\n",
    "\n",
    "'''Importing required package'''\n",
    "from sklearn.svm import SVC\n",
    "import matplotlib.pyplot as plt\n",
    "import scikitplot.plotters as skplt\n",
    "\n",
    "\n",
    "clf = SVC()\n",
    "clf.fit(xtr, ytr)\n",
    "y_pred = clf.predict(xte)\n",
    "\n",
    "m = yte.shape[0]\n",
    "n = (yte != y_pred).sum()\n",
    "print(\"Accuracy = \" + format((m-n)/m*100, '.2f') + \"%\") \n",
    "\n",
    "'''Plotting confusion matrix'''\n",
    "skplt.plot_confusion_matrix(yte,y_pred)\n",
    "plt.show()\n",
    "    "
   ]
  },
  {
   "cell_type": "code",
   "execution_count": null,
   "metadata": {
    "colab": {
     "base_uri": "https://localhost:8080/",
     "height": 366
    },
    "executionInfo": {
     "elapsed": 63310,
     "status": "ok",
     "timestamp": 1603302086378,
     "user": {
      "displayName": "Jayesh Patel",
      "photoUrl": "https://lh3.googleusercontent.com/a-/AOh14Gg69SD9e5seMzy43A9_CPxYuNvglWzoi3JdILbrJw=s64",
      "userId": "00686517742766513131"
     },
     "user_tz": -330
    },
    "id": "w0jOqOTlIrPD",
    "outputId": "321c9990-539b-493a-a757-64b41f30daed"
   },
   "outputs": [],
   "source": [
    "'''Import Data which converted into Vector'''\n",
    "\n",
    "xtr=np.load('/content/gdrive/My Drive/Project/xtr.npy')\n",
    "xte=np.load('/content/gdrive/My Drive/Project/xte.npy')\n",
    "ytr=np.load('/content/gdrive/My Drive/Project/ytr.npy')\n",
    "yte=np.load('/content/gdrive/My Drive/Project/yte.npy')\n",
    "\n",
    "'''Importing required package'''\n",
    "from sklearn.neighbors import KNeighborsClassifier as kn\n",
    "import matplotlib.pyplot as plt\n",
    "import scikitplot.plotters as skplt\n",
    "\n",
    "clf = kn()\n",
    "clf.fit(xtr, ytr)\n",
    "y_pred = clf.predict(xte)\n",
    "\n",
    "m = yte.shape[0]\n",
    "n = (yte != y_pred).sum()\n",
    "print(\"Accuracy = \" + format((m-n)/m*100, '.2f') + \"%\") \n",
    "\n",
    "'''Plotting confusion matrix'''\n",
    "skplt.plot_confusion_matrix(yte,y_pred)\n",
    "plt.show()"
   ]
  },
  {
   "cell_type": "code",
   "execution_count": null,
   "metadata": {
    "colab": {
     "base_uri": "https://localhost:8080/",
     "height": 366
    },
    "executionInfo": {
     "elapsed": 7464,
     "status": "ok",
     "timestamp": 1603302739974,
     "user": {
      "displayName": "Jayesh Patel",
      "photoUrl": "https://lh3.googleusercontent.com/a-/AOh14Gg69SD9e5seMzy43A9_CPxYuNvglWzoi3JdILbrJw=s64",
      "userId": "00686517742766513131"
     },
     "user_tz": -330
    },
    "id": "hJHph3ceIrPH",
    "outputId": "1d1d4a1c-8da8-4c83-a509-c8ff7423bb8e"
   },
   "outputs": [],
   "source": [
    "'''Import Data which converted into Vector'''\n",
    "\n",
    "xtr=np.load('/content/gdrive/My Drive/Project/xtr.npy')\n",
    "xte=np.load('/content/gdrive/My Drive/Project/xte.npy')\n",
    "ytr=np.load('/content/gdrive/My Drive/Project/ytr.npy')\n",
    "yte=np.load('/content/gdrive/My Drive/Project/yte.npy')\n",
    "\n",
    "'''Importing required package'''\n",
    "from sklearn.cluster import KMeans as KM\n",
    "import matplotlib.pyplot as plt\n",
    "import scikitplot.plotters as skplt\n",
    "\n",
    "clf = KM(n_clusters=2,random_state=0).fit(xtr)\n",
    "y_pred = clf.predict(xte)\n",
    "\n",
    "m = yte.shape[0]\n",
    "n = (yte != y_pred).sum()\n",
    "print(\"Accuracy = \" + format((m-n)/m*100, '.2f') + \"%\") \n",
    "\n",
    "\n",
    "\n",
    "'''Plotting confusion matrix'''\n",
    "skplt.plot_confusion_matrix(yte,y_pred)\n",
    "plt.show()"
   ]
  },
  {
   "cell_type": "code",
   "execution_count": null,
   "metadata": {
    "colab": {
     "base_uri": "https://localhost:8080/",
     "height": 366
    },
    "executionInfo": {
     "elapsed": 1619,
     "status": "ok",
     "timestamp": 1603303282322,
     "user": {
      "displayName": "Jayesh Patel",
      "photoUrl": "https://lh3.googleusercontent.com/a-/AOh14Gg69SD9e5seMzy43A9_CPxYuNvglWzoi3JdILbrJw=s64",
      "userId": "00686517742766513131"
     },
     "user_tz": -330
    },
    "id": "yP6LHWavIrPL",
    "outputId": "defb7958-e57e-4342-9f99-ac2e65ef07fc"
   },
   "outputs": [],
   "source": [
    "'''Import Data which converted into Vector'''\n",
    "\n",
    "xtr=np.load('/content/gdrive/My Drive/Project/xtr.npy')\n",
    "xte=np.load('/content/gdrive/My Drive/Project/xte.npy')\n",
    "ytr=np.load('/content/gdrive/My Drive/Project/ytr.npy')\n",
    "yte=np.load('/content/gdrive/My Drive/Project/yte.npy')\n",
    "\n",
    "'''Importing required package'''\n",
    "from sklearn.linear_model import SGDClassifier as gd\n",
    "import matplotlib.pyplot as plt\n",
    "import scikitplot.plotters as skplt\n",
    "\n",
    "clf=gd()\n",
    "clf.fit(xtr,ytr)\n",
    "y_pred=clf.predict(xte)\n",
    "\n",
    "m = yte.shape[0]\n",
    "n = (yte != y_pred).sum()\n",
    "print(\"Accuracy = \" + format((m-n)/m*100, '.2f') + \"%\") \n",
    "\n",
    "'''Plotting confusion matrix'''\n",
    "skplt.plot_confusion_matrix(yte,y_pred)\n",
    "plt.show()\n"
   ]
  },
  {
   "cell_type": "code",
   "execution_count": null,
   "metadata": {
    "colab": {
     "base_uri": "https://localhost:8080/",
     "height": 366
    },
    "executionInfo": {
     "elapsed": 9131,
     "status": "ok",
     "timestamp": 1603303676887,
     "user": {
      "displayName": "Jayesh Patel",
      "photoUrl": "https://lh3.googleusercontent.com/a-/AOh14Gg69SD9e5seMzy43A9_CPxYuNvglWzoi3JdILbrJw=s64",
      "userId": "00686517742766513131"
     },
     "user_tz": -330
    },
    "id": "QEwD52bCUzRJ",
    "outputId": "24238bae-f29a-4aa2-b383-404fbdf35d2c"
   },
   "outputs": [],
   "source": [
    "'''Import Data which converted into Vector'''\n",
    "\n",
    "xtr=np.load('/content/gdrive/My Drive/Project/xtr.npy')\n",
    "xte=np.load('/content/gdrive/My Drive/Project/xte.npy')\n",
    "ytr=np.load('/content/gdrive/My Drive/Project/ytr.npy')\n",
    "yte=np.load('/content/gdrive/My Drive/Project/yte.npy')\n",
    "\n",
    "'''Importing required package'''\n",
    "from sklearn import tree\n",
    "import matplotlib.pyplot as plt\n",
    "import scikitplot.plotters as skplt\n",
    "\n",
    "clf=tree.DecisionTreeClassifier()\n",
    "clf.fit(xtr,ytr)\n",
    "y_pred=clf.predict(xte)\n",
    "\n",
    "m = yte.shape[0]\n",
    "n = (yte != y_pred).sum()\n",
    "print(\"Accuracy = \" + format((m-n)/m*100, '.2f') + \"%\") \n",
    "\n",
    "'''Plotting confusion matrix'''\n",
    "skplt.plot_confusion_matrix(yte,y_pred)\n",
    "plt.show()"
   ]
  },
  {
   "cell_type": "code",
   "execution_count": null,
   "metadata": {
    "colab": {
     "base_uri": "https://localhost:8080/",
     "height": 366
    },
    "executionInfo": {
     "elapsed": 49690,
     "status": "ok",
     "timestamp": 1603304025537,
     "user": {
      "displayName": "Jayesh Patel",
      "photoUrl": "https://lh3.googleusercontent.com/a-/AOh14Gg69SD9e5seMzy43A9_CPxYuNvglWzoi3JdILbrJw=s64",
      "userId": "00686517742766513131"
     },
     "user_tz": -330
    },
    "id": "yl6Yy0hbWNEo",
    "outputId": "0d227749-347d-4f2a-d30e-dbb089e8bfe8"
   },
   "outputs": [],
   "source": [
    "'''Import Data which converted into Vector'''\n",
    "\n",
    "xtr=np.load('/content/gdrive/My Drive/Project/xtr.npy')\n",
    "xte=np.load('/content/gdrive/My Drive/Project/xte.npy')\n",
    "ytr=np.load('/content/gdrive/My Drive/Project/ytr.npy')\n",
    "yte=np.load('/content/gdrive/My Drive/Project/yte.npy')\n",
    "\n",
    "'''Importing required package'''\n",
    "from sklearn.ensemble import RandomForestClassifier\n",
    "import matplotlib.pyplot as plt\n",
    "import scikitplot.plotters as skplt\n",
    "\n",
    "clf=RandomForestClassifier(n_estimators=500,max_leaf_nodes=16,n_jobs=-1)\n",
    "clf.fit(xtr,ytr)\n",
    "y_pred=clf.predict(xte)\n",
    "\n",
    "m = yte.shape[0]\n",
    "n = (yte != y_pred).sum()\n",
    "print(\"Accuracy = \" + format((m-n)/m*100, '.2f') + \"%\") \n",
    "\n",
    "'''Plotting confusion matrix'''\n",
    "skplt.plot_confusion_matrix(yte,y_pred)\n",
    "plt.show()"
   ]
  },
  {
   "cell_type": "code",
   "execution_count": null,
   "metadata": {
    "colab": {
     "base_uri": "https://localhost:8080/",
     "height": 366
    },
    "executionInfo": {
     "elapsed": 1738,
     "status": "ok",
     "timestamp": 1603304199286,
     "user": {
      "displayName": "Jayesh Patel",
      "photoUrl": "https://lh3.googleusercontent.com/a-/AOh14Gg69SD9e5seMzy43A9_CPxYuNvglWzoi3JdILbrJw=s64",
      "userId": "00686517742766513131"
     },
     "user_tz": -330
    },
    "id": "BIntYT2fXgdM",
    "outputId": "d90709e3-ecd8-401a-95e7-fe570a12840e"
   },
   "outputs": [],
   "source": [
    "'''Import Data which converted into Vector'''\n",
    "\n",
    "xtr=np.load('/content/gdrive/My Drive/Project/xtr.npy')\n",
    "xte=np.load('/content/gdrive/My Drive/Project/xte.npy')\n",
    "ytr=np.load('/content/gdrive/My Drive/Project/ytr.npy')\n",
    "yte=np.load('/content/gdrive/My Drive/Project/yte.npy')\n",
    "\n",
    "'''Importing required package'''\n",
    "from sklearn.linear_model import RidgeClassifier\n",
    "import matplotlib.pyplot as plt\n",
    "import scikitplot.plotters as skplt\n",
    "\n",
    "clf=RidgeClassifier(solver='sparse_cg').fit(xtr,ytr)\n",
    "y_pred=clf.predict(xte)\n",
    "\n",
    "m = yte.shape[0]\n",
    "n = (yte != y_pred).sum()\n",
    "print(\"Accuracy = \" + format((m-n)/m*100, '.2f') + \"%\") \n",
    "\n",
    "'''Plotting confusion matrix'''\n",
    "skplt.plot_confusion_matrix(yte,y_pred)\n",
    "plt.show()"
   ]
  },
  {
   "cell_type": "code",
   "execution_count": null,
   "metadata": {
    "colab": {
     "base_uri": "https://localhost:8080/",
     "height": 740
    },
    "executionInfo": {
     "elapsed": 119468,
     "status": "ok",
     "timestamp": 1603306690223,
     "user": {
      "displayName": "Jayesh Patel",
      "photoUrl": "https://lh3.googleusercontent.com/a-/AOh14Gg69SD9e5seMzy43A9_CPxYuNvglWzoi3JdILbrJw=s64",
      "userId": "00686517742766513131"
     },
     "user_tz": -330
    },
    "id": "ziwAkCl5YK1C",
    "outputId": "c8d11e06-0ece-44b3-f6f5-0c2fb8a804a3"
   },
   "outputs": [],
   "source": [
    "'''Import Data which converted into Vector'''\n",
    "\n",
    "xtr=np.load('/content/gdrive/My Drive/Project/xtr.npy')\n",
    "xte=np.load('/content/gdrive/My Drive/Project/xte.npy')\n",
    "ytr=np.load('/content/gdrive/My Drive/Project/ytr.npy')\n",
    "yte=np.load('/content/gdrive/My Drive/Project/yte.npy')\n",
    "\n",
    "'''Importing required package'''\n",
    "from sklearn.neural_network import MLPClassifier\n",
    "import matplotlib.pyplot as plt\n",
    "import scikitplot.plotters as skplt\n",
    "\n",
    "clf=MLPClassifier(hidden_layer_sizes=(1000,500,2),activation='tanh',solver='adam',learning_rate_init=0.0001,max_iter=20,tol=0.0000001,verbose=True).fit(xtr,ytr)\n",
    "y_pred=clf.predict(xte)\n",
    "\n",
    "m = yte.shape[0]\n",
    "n = (yte != y_pred).sum()\n",
    "print(\"Accuracy = \" + format((m-n)/m*100, '.2f') + \"%\") \n",
    "\n",
    "'''Plotting confusion matrix'''\n",
    "skplt.plot_confusion_matrix(yte,y_pred)\n",
    "plt.show()"
   ]
  },
  {
   "cell_type": "code",
   "execution_count": null,
   "metadata": {},
   "outputs": [],
   "source": [
    "'''Import Data which converted into Vector'''\n",
    "\n",
    "xtr=np.load('/content/gdrive/My Drive/Project/xtr.npy')\n",
    "xte=np.load('/content/gdrive/My Drive/Project/xte.npy')\n",
    "ytr=np.load('/content/gdrive/My Drive/Project/ytr.npy')\n",
    "yte=np.load('/content/gdrive/My Drive/Project/yte.npy')\n",
    "\n",
    "'''Importing required package'''\n",
    "from sklearn.ensemble import GradientBoostingClassifier\n",
    "import matplotlib.pyplot as plt\n",
    "import scikitplot.plotters as skplt\n",
    "\n",
    "clf = GradientBoostingClassifier(random_state=0)\n",
    "clf.fit(xtr,ytr)\n",
    "y_pred=clf.predict(xte)\n",
    "\n",
    "m = yte.shape[0]\n",
    "n = (yte != y_pred).sum()\n",
    "print(\"Accuracy = \" + format((m-n)/m*100, '.2f') + \"%\") \n",
    "\n",
    "'''Plotting confusion matrix'''\n",
    "skplt.plot_confusion_matrix(yte,y_pred)\n",
    "plt.show()"
   ]
  }
 ],
 "metadata": {
  "colab": {
   "name": "All_Alogo_Implementation.ipynb",
   "provenance": []
  },
  "kernelspec": {
   "display_name": "Python 3",
   "language": "python",
   "name": "python3"
  },
  "language_info": {
   "codemirror_mode": {
    "name": "ipython",
    "version": 3
   },
   "file_extension": ".py",
   "mimetype": "text/x-python",
   "name": "python",
   "nbconvert_exporter": "python",
   "pygments_lexer": "ipython3",
   "version": "3.8.3"
  }
 },
 "nbformat": 4,
 "nbformat_minor": 1
}
